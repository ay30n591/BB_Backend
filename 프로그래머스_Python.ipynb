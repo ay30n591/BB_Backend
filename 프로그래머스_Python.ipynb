{
  "nbformat": 4,
  "nbformat_minor": 0,
  "metadata": {
    "colab": {
      "provenance": [],
      "authorship_tag": "ABX9TyNhjUFHcn22q2860oMOpZt4",
      "include_colab_link": true
    },
    "kernelspec": {
      "name": "python3",
      "display_name": "Python 3"
    },
    "language_info": {
      "name": "python"
    }
  },
  "cells": [
    {
      "cell_type": "markdown",
      "metadata": {
        "id": "view-in-github",
        "colab_type": "text"
      },
      "source": [
        "<a href=\"https://colab.research.google.com/github/ay30n591/BB_Backend/blob/master/%ED%94%84%EB%A1%9C%EA%B7%B8%EB%9E%98%EB%A8%B8%EC%8A%A4_Python.ipynb\" target=\"_parent\"><img src=\"https://colab.research.google.com/assets/colab-badge.svg\" alt=\"Open In Colab\"/></a>"
      ]
    },
    {
      "cell_type": "markdown",
      "source": [
        "### Day6 수열과 구간 쿼리 3"
      ],
      "metadata": {
        "id": "1Arap_6U-IBW"
      }
    },
    {
      "cell_type": "code",
      "execution_count": 1,
      "metadata": {
        "colab": {
          "base_uri": "https://localhost:8080/"
        },
        "id": "NDdBjwle2iv7",
        "outputId": "e32212a3-a9f8-4782-f1e9-793d74b55860"
      },
      "outputs": [
        {
          "output_type": "execute_result",
          "data": {
            "text/plain": [
              "[3, 4, 1, 0, 2]"
            ]
          },
          "metadata": {},
          "execution_count": 1
        }
      ],
      "source": [
        "arr = [0,1,2,3,4]\n",
        "queries = [[0,3],[1,2],[1,4]]\n",
        "\n",
        "for i in queries:\n",
        "  arr[i[0]],arr[i[1]]=arr[i[1]],arr[i[0]]\n",
        "\n",
        "arr"
      ]
    },
    {
      "cell_type": "markdown",
      "source": [
        "### Day6 수열과 구간 쿼리 2"
      ],
      "metadata": {
        "id": "lC2LDcZUCR3-"
      }
    },
    {
      "cell_type": "code",
      "source": [
        "arr =[0, 1, 2, 4, 3]\n",
        "queries =[[0, 4, 2],[0, 3, 2],[0, 2, 2]]\n",
        "\n",
        "answer = []\n",
        "# 리스트 결과 값을 저장할 곳\n",
        "tmp = []\n",
        "# 임시로 값을 저장할 곳\n",
        "\n",
        "for s, e, k in queries:\n",
        "    tmp = list(filter(lambda x: x > k, sorted(arr[s:e+1])))\n",
        "    # tmp 리스트 추가 작업으로\n",
        "    # arr[s:e+1] 기준으로 배열의 일부를 잘라내고\n",
        "    # 해당 부분 배열을 정렬한 후 k보다 큰 값들을 필터링하여 tmp에 저장\n",
        "    if len(tmp) > 0:\n",
        "      # tmp에 어떤 값이 저장되었다면\n",
        "      answer.append(tmp[0])\n",
        "      # answer리스트에 첫번째 인자값을 추가\n",
        "    else:\n",
        "      answer.append(-1)\n",
        "      # 그렇지 않으면 -1을 추가\n",
        "\n",
        "answer"
      ],
      "metadata": {
        "colab": {
          "base_uri": "https://localhost:8080/"
        },
        "id": "GCuS5I1y-Hcx",
        "outputId": "84e2be33-673a-4ca2-a793-b248cc301716"
      },
      "execution_count": null,
      "outputs": [
        {
          "output_type": "execute_result",
          "data": {
            "text/plain": [
              "[3, 4, -1]"
            ]
          },
          "metadata": {},
          "execution_count": 4
        }
      ]
    },
    {
      "cell_type": "markdown",
      "source": [
        "##Day7 카운트 업"
      ],
      "metadata": {
        "id": "XXaOYZ5d5R9H"
      }
    },
    {
      "cell_type": "code",
      "source": [
        "start = 3\n",
        "end =10\n",
        "\n",
        "ilist = [i for i in range(start,end+1)]\n",
        "print(ilist)\n",
        "\n",
        "    # result = []\n",
        "    # for i in range(start,end+1):\n",
        "    #     result.append(i)\n",
        "    # return result"
      ],
      "metadata": {
        "id": "irBDtZxo_Quh",
        "colab": {
          "base_uri": "https://localhost:8080/"
        },
        "outputId": "b4441deb-d756-4209-9f60-d007067afb79"
      },
      "execution_count": null,
      "outputs": [
        {
          "output_type": "stream",
          "name": "stdout",
          "text": [
            "[3, 4, 5, 6, 7, 8, 9, 10]\n"
          ]
        }
      ]
    },
    {
      "cell_type": "markdown",
      "source": [
        "## Day7 콜라츠 수열 만들기"
      ],
      "metadata": {
        "id": "CyaOswzaC7S4"
      }
    },
    {
      "cell_type": "code",
      "source": [
        "def solution(n):\n",
        "    nlist = []\n",
        "\n",
        "    while n != 1:\n",
        "        nlist.append(int(n))\n",
        "        if n % 2 == 0:\n",
        "            n = n / 2\n",
        "        else:\n",
        "            n = n*3+1\n",
        "    nlist.append(1)\n",
        "\n",
        "    return nlist"
      ],
      "metadata": {
        "id": "OM1g5pE1C2aG"
      },
      "execution_count": null,
      "outputs": []
    },
    {
      "cell_type": "markdown",
      "source": [
        "## Day7 수열과 구간 쿼리4"
      ],
      "metadata": {
        "id": "ZMWQJb71tsdI"
      }
    },
    {
      "cell_type": "code",
      "source": [
        "arr =[0, 1, 2, 4, 3]\n",
        "queries =[[0, 4, 1],[0, 3, 2],[0, 3, 3]]\n",
        "\n",
        "\n",
        "for s,e,k in queries:\n",
        "    for i in range(s,e+1):\n",
        "        if i % k==0:\n",
        "            arr[i] += 1\n",
        "arr"
      ],
      "metadata": {
        "colab": {
          "base_uri": "https://localhost:8080/"
        },
        "id": "jvJSuwfatv0E",
        "outputId": "6dcc549a-c574-4468-c087-07a3b2319d3d"
      },
      "execution_count": null,
      "outputs": [
        {
          "output_type": "execute_result",
          "data": {
            "text/plain": [
              "[3, 2, 4, 6, 4]"
            ]
          },
          "metadata": {},
          "execution_count": 16
        }
      ]
    },
    {
      "cell_type": "markdown",
      "source": [
        "## Day7 배열 만들기2"
      ],
      "metadata": {
        "id": "X6VhUS275LGp"
      }
    },
    {
      "cell_type": "code",
      "source": [
        "    l=5\n",
        "    r=555\n",
        "\n",
        "    an = []\n",
        "\n",
        "    for i in range(l,r+1):\n",
        "        if all(j in ['0','5'] for j in str(i)):\n",
        "          # all 함수는 ture, false 값을 리턴한다.\n",
        "            an.append(i)\n",
        "\n",
        "    if len(an) == 0:\n",
        "        an.append(-1)\n",
        "\n",
        "an"
      ],
      "metadata": {
        "id": "YoHM-0jGueOl",
        "colab": {
          "base_uri": "https://localhost:8080/"
        },
        "outputId": "78bbb95b-da46-482c-b0f4-e376e3962f05"
      },
      "execution_count": null,
      "outputs": [
        {
          "output_type": "execute_result",
          "data": {
            "text/plain": [
              "[5, 50, 55, 500, 505, 550, 555]"
            ]
          },
          "metadata": {},
          "execution_count": 3
        }
      ]
    },
    {
      "cell_type": "markdown",
      "source": [
        "## Day7 배열 만들기4\n"
      ],
      "metadata": {
        "id": "tLgooSw5Eyt6"
      }
    },
    {
      "cell_type": "code",
      "source": [
        "arr= [1, 4, 2, 5, 3]\n",
        "stk =[]\n",
        "\n",
        "while i < len(arr):\n",
        "    if len(stk) == 0:\n",
        "      stk.append(arr[i])\n",
        "      i +=1\n",
        "    elif stk[-1] < arr[i]:\n",
        "      stk.append(arr[i])\n",
        "      i += 1\n",
        "    else :\n",
        "      stk.pop()\n",
        "stk\n"
      ],
      "metadata": {
        "colab": {
          "base_uri": "https://localhost:8080/"
        },
        "id": "EiMZpDc8E7GS",
        "outputId": "89a9303f-555c-4d08-8821-76d2efc46f29"
      },
      "execution_count": null,
      "outputs": [
        {
          "output_type": "execute_result",
          "data": {
            "text/plain": [
              "[]"
            ]
          },
          "metadata": {},
          "execution_count": 9
        }
      ]
    },
    {
      "cell_type": "markdown",
      "source": [
        "##Day8 간단한 논리 연산"
      ],
      "metadata": {
        "id": "bwvsoJ-yE6zV"
      }
    },
    {
      "cell_type": "code",
      "source": [
        "def solution(x1, x2, x3, x4):\n",
        "    return (x1 or x2) and (x3 or x4)"
      ],
      "metadata": {
        "id": "E7zzq3EK52JO"
      },
      "execution_count": null,
      "outputs": []
    },
    {
      "cell_type": "markdown",
      "source": [
        "## Day8 주사위 게임 3"
      ],
      "metadata": {
        "id": "L8ianVW954YW"
      }
    },
    {
      "cell_type": "code",
      "source": [
        "dice_count"
      ],
      "metadata": {
        "colab": {
          "base_uri": "https://localhost:8080/"
        },
        "id": "FWD3NkuEbcDN",
        "outputId": "799964f6-ec24-4aca-bed4-7138310ff1c0"
      },
      "execution_count": null,
      "outputs": [
        {
          "output_type": "execute_result",
          "data": {
            "text/plain": [
              "[0, 0, 2, 0, 0, 2]"
            ]
          },
          "metadata": {},
          "execution_count": 8
        }
      ]
    },
    {
      "cell_type": "code",
      "source": [
        "a=5\n",
        "b=3\n",
        "c=3\n",
        "d=6\n",
        "dice = [a, b, c, d]\n",
        "dice_count = [dice.count(i) for i in range(1, 7)]\n",
        "# abcd 값의 빈도를 나타냄\n",
        "\n",
        "if max(dice_count) == 4:  # 모두 같은 숫자가 나왔을 때\n",
        "  p = dice[0]\n",
        "  score = 1111 * p\n",
        "elif max(dice_count) == 3:  # 세 숫자가 같을 때\n",
        "  p = dice_count.index(3) + 1\n",
        "  # 동일 값이 3개인 값을 찾줌\n",
        "  q = dice_count.index(1) + 1\n",
        "  score = (10 * p + q) ** 2\n",
        "elif max(dice_count) == 2:  # 두 쌍의 숫자가 같을 때\n",
        "  p = dice_count.index(2) + 1\n",
        "  q = dice_count.index(1) + 1\n",
        "  diff = abs(p - q)\n",
        "  score = (p + q) * diff\n",
        "elif max(dice_count) == 1:  # 모두 다른 숫자일 때\n",
        "  score = min(dice)\n",
        "\n",
        "\n",
        "score"
      ],
      "metadata": {
        "id": "i0SfG7F853vw",
        "colab": {
          "base_uri": "https://localhost:8080/"
        },
        "outputId": "5f0eeb32-1224-46c5-9dd8-9669ea6ba773"
      },
      "execution_count": null,
      "outputs": [
        {
          "output_type": "execute_result",
          "data": {
            "text/plain": [
              "16"
            ]
          },
          "metadata": {},
          "execution_count": 13
        }
      ]
    },
    {
      "cell_type": "code",
      "source": [
        "a=2\n",
        "b=3\n",
        "c=3\n",
        "d=1\n",
        "answer = 0\n",
        "origin = [a, b, c, d]\n",
        "arr = list(set(origin))\n",
        "# origin 리스트의 중복 값을 제거하고 유일한 값들로 이루어진 집합\n",
        "\n",
        "if len(arr) == 4:\n",
        "   answer = min(arr)\n",
        "elif len(arr) == 3:\n",
        "   p = max(origin, key=origin.count)\n",
        "   #key는 큰 값을 찾을때 기준을 정해주는 역할을하여\n",
        "   #리스트 내에서 해당 값의 개수가 가장 많은 것을 추출\n",
        "   tmp = [num for num in arr if num != p]\n",
        "   answer = tmp[0] * tmp[1]\n",
        "elif len(arr) == 2:\n",
        "    if max([origin.count(num) for num in arr]) > 2:\n",
        "       p = max(origin, key=origin.count)\n",
        "       q = min(origin, key=origin.count)\n",
        "       answer = pow(((10 * p) + q), 2)\n",
        "       # pow는 제곱을 계산하는 함수\n",
        "    else:\n",
        "       answer = ((arr[0] + arr[1]) * abs(arr[0] - arr[1]))\n",
        "elif len(arr) == 1:\n",
        "        answer = int(str(arr[0]) * 4)\n",
        "\n",
        "answer"
      ],
      "metadata": {
        "colab": {
          "base_uri": "https://localhost:8080/"
        },
        "id": "rSRbLmq1d9w7",
        "outputId": "c82b1980-3e4f-41e9-ab4d-848133d8b1b9"
      },
      "execution_count": null,
      "outputs": [
        {
          "output_type": "execute_result",
          "data": {
            "text/plain": [
              "[1, 2, 3]"
            ]
          },
          "metadata": {},
          "execution_count": 19
        }
      ]
    }
  ]
}